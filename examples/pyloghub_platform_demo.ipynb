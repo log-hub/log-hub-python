{
 "cells": [
  {
   "attachments": {},
   "cell_type": "markdown",
   "metadata": {},
   "source": [
    "<p align=\"left\">\n",
    "  <img src=\"../examples\\assets\\log-hub-github-header.png\" alt=\"Header Image\"  width=\"980\"/>\n",
    "</p>"
   ]
  },
  {
   "attachments": {},
   "cell_type": "markdown",
   "metadata": {},
   "source": [
    "# Connecting to Log-hub Platform\n",
    "\n",
    "## Introduction\n",
    "\n",
    "This demo will guide you through the process of seamlessly connecting your data to the Log-hub Platform. It's a step-by-step guide that will help you understand how to upload your data, configure scenario parameters effectively, run the calculation and find all the output tables, maps and dashboards on the platform in order to integrate your logistics data effortlessly, enabling you to make informed decisions and optimize your operations."
   ]
  },
  {
   "attachments": {},
   "cell_type": "markdown",
   "metadata": {},
   "source": [
    "## Setting up the API key\n",
    "\n",
    "Please, copy your API key from the platform."
   ]
  },
  {
   "cell_type": "code",
   "execution_count": 16,
   "metadata": {},
   "outputs": [],
   "source": [
    "api_key = \"14d872084c972dd5087bee9b6fa1593a5061a2e7\""
   ]
  },
  {
   "attachments": {},
   "cell_type": "markdown",
   "metadata": {},
   "source": [
    "## Importing the package\n",
    "\n",
    "Import all the modules needed for this demo."
   ]
  },
  {
   "cell_type": "code",
   "execution_count": 13,
   "metadata": {},
   "outputs": [],
   "source": [
    "from pyloghub.dataset import update_table\n",
    "from pyloghub.center_of_gravity import reverse_center_of_gravity_sample_data, reverse_center_of_gravity\n",
    "from IPython.display import display"
   ]
  },
  {
   "attachments": {},
   "cell_type": "markdown",
   "metadata": {},
   "source": [
    "## Creating a sample data\n",
    "\n",
    "We will create a sample data for Center of Gravity application in Lat/Lon mode."
   ]
  },
  {
   "cell_type": "code",
   "execution_count": 14,
   "metadata": {},
   "outputs": [
    {
     "data": {
      "text/html": [
       "<div>\n",
       "<style scoped>\n",
       "    .dataframe tbody tr th:only-of-type {\n",
       "        vertical-align: middle;\n",
       "    }\n",
       "\n",
       "    .dataframe tbody tr th {\n",
       "        vertical-align: top;\n",
       "    }\n",
       "\n",
       "    .dataframe thead th {\n",
       "        text-align: right;\n",
       "    }\n",
       "</style>\n",
       "<table border=\"1\" class=\"dataframe\">\n",
       "  <thead>\n",
       "    <tr style=\"text-align: right;\">\n",
       "      <th></th>\n",
       "      <th>id</th>\n",
       "      <th>name</th>\n",
       "      <th>latitude</th>\n",
       "      <th>longitude</th>\n",
       "      <th>weight</th>\n",
       "    </tr>\n",
       "  </thead>\n",
       "  <tbody>\n",
       "    <tr>\n",
       "      <th>0</th>\n",
       "      <td>1</td>\n",
       "      <td>Customer_0044</td>\n",
       "      <td>31.818508</td>\n",
       "      <td>75.204906</td>\n",
       "      <td>367</td>\n",
       "    </tr>\n",
       "    <tr>\n",
       "      <th>1</th>\n",
       "      <td>2</td>\n",
       "      <td>Customer_1378</td>\n",
       "      <td>26.126189</td>\n",
       "      <td>89.467499</td>\n",
       "      <td>67</td>\n",
       "    </tr>\n",
       "    <tr>\n",
       "      <th>2</th>\n",
       "      <td>3</td>\n",
       "      <td>Customer_0263</td>\n",
       "      <td>26.402907</td>\n",
       "      <td>71.916797</td>\n",
       "      <td>20</td>\n",
       "    </tr>\n",
       "    <tr>\n",
       "      <th>3</th>\n",
       "      <td>4</td>\n",
       "      <td>Customer_0767</td>\n",
       "      <td>12.299513</td>\n",
       "      <td>78.206302</td>\n",
       "      <td>238</td>\n",
       "    </tr>\n",
       "    <tr>\n",
       "      <th>4</th>\n",
       "      <td>5</td>\n",
       "      <td>Customer_1027</td>\n",
       "      <td>14.446319</td>\n",
       "      <td>79.982021</td>\n",
       "      <td>664</td>\n",
       "    </tr>\n",
       "  </tbody>\n",
       "</table>\n",
       "</div>"
      ],
      "text/plain": [
       "   id           name   latitude  longitude  weight\n",
       "0   1  Customer_0044  31.818508  75.204906     367\n",
       "1   2  Customer_1378  26.126189  89.467499      67\n",
       "2   3  Customer_0263  26.402907  71.916797      20\n",
       "3   4  Customer_0767  12.299513  78.206302     238\n",
       "4   5  Customer_1027  14.446319  79.982021     664"
      ]
     },
     "metadata": {},
     "output_type": "display_data"
    },
    {
     "name": "stdout",
     "output_type": "stream",
     "text": [
      "Parameters: \n"
     ]
    },
    {
     "data": {
      "text/plain": [
       "{'numberOfCenters': 5, 'distanceUnit': 'km'}"
      ]
     },
     "metadata": {},
     "output_type": "display_data"
    },
    {
     "name": "stdout",
     "output_type": "stream",
     "text": [
      "Save Scenario Parameters: \n"
     ]
    },
    {
     "data": {
      "text/plain": [
       "{'saveScenario': False,\n",
       " 'overwriteScenario': False,\n",
       " 'workspaceId': 'Your workspace id',\n",
       " 'scenarioName': 'Your scenario name'}"
      ]
     },
     "metadata": {},
     "output_type": "display_data"
    }
   ],
   "source": [
    "sample_data = reverse_center_of_gravity_sample_data()\n",
    "\n",
    "reverse_center_of_gravity_df = sample_data['coordinates']\n",
    "parameters = sample_data['parameters']\n",
    "save_scenario = sample_data['saveScenarioParameters']\n",
    "\n",
    "display(reverse_center_of_gravity_df.head())\n",
    "print(\"Parameters: \")\n",
    "display(parameters)\n",
    "print(\"Save Scenario Parameters: \")\n",
    "display(save_scenario)"
   ]
  },
  {
   "attachments": {},
   "cell_type": "markdown",
   "metadata": {},
   "source": [
    "## Upload the table\n",
    "\n",
    "Now we'll upload the data to the platform using the update_table function. An additional explanation about using this function is available in the ```pyloghub_package_demo.ipynb```.\n",
    "\n",
    "Please, go to the Log-hub Platform and via the GUI create a new Workspace, a Dataset and a Table within it. Click on the \"three dots\", then on \"Table Link\" and copy the corresponding table link below."
   ]
  },
  {
   "cell_type": "code",
   "execution_count": 10,
   "metadata": {},
   "outputs": [
    {
     "name": "stderr",
     "output_type": "stream",
     "text": [
      "INFO:root:Table updated successfully.\n"
     ]
    }
   ],
   "source": [
    "table_link = \"https://production.supply-chain-apps.log-hub.com/api/v1/datasets/9564631d440173a29832188c1d13cde0b0d8ce17/tables/9aba0305e6c7a0ce6f7cdebf2aec787e08690d09/rows\"\n",
    "email = \"bojana.vuckovic@log-hub.com\"\n",
    "metadata = {\"table_name\": \"Demo Table\"}\n",
    "response = update_table(table_link, reverse_center_of_gravity_df, metadata, email, api_key)"
   ]
  },
  {
   "attachments": {},
   "cell_type": "markdown",
   "metadata": {},
   "source": [
    "Once the data is uploaded succsessfully it's on the platform so you can present it or use it in further calculations."
   ]
  },
  {
   "attachments": {},
   "cell_type": "markdown",
   "metadata": {},
   "source": [
    "#### Calculating centers of gravity\n",
    "\n",
    "Now let's calculate centers of gravity by using our Center of Gravity application in Lat/Lon mode and the data we've just uploaded. We'll do the calculation twice so we can compare scenarios on the Log-hub Platform. I order to do so, we'll adjust the ```save_scenario``` parameters."
   ]
  },
  {
   "cell_type": "code",
   "execution_count": 17,
   "metadata": {},
   "outputs": [],
   "source": [
    "# saveScenario parameter needs to be set to True in order to save the output of the calculation on the Log-hub Platform\n",
    "save_scenario['saveScenario'] = True \n",
    "# An id of the workspace in which we want to save the scenario needs to be provided\n",
    "save_scenario['workspaceId'] = \"47615617fc49e0941e63404b6d9031f5b77f6e2a\" \n",
    "# Name of your first Scenario\n",
    "save_scenario['scenarioName'] = \"CoG 1\"  \n",
    "# Calculating 5 centers of gravity\n",
    "cog1 = reverse_center_of_gravity(reverse_center_of_gravity_df, parameters, api_key, save_scenario)"
   ]
  },
  {
   "attachments": {},
   "cell_type": "markdown",
   "metadata": {},
   "source": [
    "After running the first calculation succsessfully, please go to the Log-hub Platform, refresh the page and in the Workspace with the corresponding Id you can find the Folder with the name you provided. "
   ]
  },
  {
   "cell_type": "code",
   "execution_count": 18,
   "metadata": {},
   "outputs": [],
   "source": [
    "# Name of your second scenario \n",
    "save_scenario['scenarioName'] = \"CoG 2\" \n",
    "# Changing the number of centers to be calculated\n",
    "parameters['numberOfCenters'] = 3\n",
    "# Calculating 3 centers of gravity\n",
    "cog2 = reverse_center_of_gravity(reverse_center_of_gravity_df, parameters, api_key, save_scenario)"
   ]
  },
  {
   "attachments": {},
   "cell_type": "markdown",
   "metadata": {},
   "source": [
    "Like after the previous step, there is a new Folder in the Workspace."
   ]
  },
  {
   "attachments": {},
   "cell_type": "markdown",
   "metadata": {},
   "source": [
    "#### Using the output data\n",
    "\n",
    "Inside of the Folders you created in the previous two steps there are Input and Output tables, along with the created Map and Dashboard for each Scenario. This data can be used for presentation, as well as for Scenario Comparison or Map Comparison."
   ]
  }
 ],
 "metadata": {
  "kernelspec": {
   "display_name": "base",
   "language": "python",
   "name": "python3"
  },
  "language_info": {
   "codemirror_mode": {
    "name": "ipython",
    "version": 3
   },
   "file_extension": ".py",
   "mimetype": "text/x-python",
   "name": "python",
   "nbconvert_exporter": "python",
   "pygments_lexer": "ipython3",
   "version": "3.9.12"
  },
  "orig_nbformat": 4
 },
 "nbformat": 4,
 "nbformat_minor": 2
}
